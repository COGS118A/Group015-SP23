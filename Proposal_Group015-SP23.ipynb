{
 "cells": [
  {
   "cell_type": "markdown",
   "metadata": {},
   "source": [
    "# COGS 118A- Project Proposal"
   ]
  },
  {
   "cell_type": "markdown",
   "metadata": {},
   "source": [
    "### Peer Review\n",
    "\n",
    "You will all have an opportunity to look at the Project Proposals of other groups to fuel your creativity and get more ideas for how you can improve your own projects. \n",
    "\n",
    "Both the project proposal and project checkpoint will have peer review."
   ]
  },
  {
   "cell_type": "markdown",
   "metadata": {},
   "source": [
    "# Names\n",
    "\n",
    "\n",
    "- Arjun A\n",
    "- Abishek S\n",
    "- Sathija S\n",
    "- Nik T\n",
    "\n"
   ]
  },
  {
   "cell_type": "markdown",
   "metadata": {},
   "source": [
    "# Abstract \n",
    "Our project aims to produce a music genre classification model. One potential application of this would be to use the model in conjunction with a song recommendation algorithm to provide the best possible experience on music streaming services. The data we use will represent key compositional elements of each song put into numerical form. For example, beats per minute can be represented as a ratio value and “energy level” can be represented on a scale from 1-10. We will preprocess the data to eliminate features that might confuse attempts at classification such as song duration. This feature pruning will require trial and error to determine what features generalize the best. Performance will be measured by examining accuracy, precision, recall, and F1 score.\n"
   ]
  },
  {
   "cell_type": "markdown",
   "metadata": {},
   "source": [
    "# Background\n",
    "\n",
    "Music Genre Classification is something that has been the subject of research for quite some time now. In today’s complex world, where music is often at the forefront of entertainment forms in the country, there exist countless genres, and subgenres of those genres. People want to know what genre the songs they listen to are, whether it is to find a community or to find songs in a similar style. Especially for prominent music streaming apps such as Spotify or Soundcloud, it is often vital to correctly classify songs, and make playlists based on similar genres, although this could be done manually. \n",
    "\n",
    "One technique that was used is analyzing the Mel-frequency cepstral coefficients (MFCCs). These coefficients represent what are called the spectral characteristics of the audio signal, and analyzing these was an initial step into music classification. However, they have their drawbacks. We now know that “musical genres, which should be independent of key, are in fact influenced by the fundamental keys of the instruments involved. As a result, genre classifiers based on the MFCC features will be influenced by the dominant keys of the genre, resulting in poor performance on songs in less common keys”<a name=\"springer\"></a>[<sup>[1]</sup>](#springernote).\n",
    "https://link.springer.com/chapter/10.1007/978-3-642-17832-0_30\n",
    "\n",
    "Some of the methods that are used now, and are more in tune with what we will be doing, are building models based on the song’s features, such as the year the song came out, the energy level, the “danceability”, among many other features. Common models that are used in genre classification and similar problems are Decision Trees, KNN models, as well as SVMs.\n",
    "\n",
    "Although we haven't learnt them in class, Neural Networks are also often used and prove to be very effective here. They can achieve 90% accuracy with their mechanisms as shown here <a name=\"chowdhury\"></a>[<sup>[1]</sup>](#chowdhurynote)\n",
    "https://www.clairvoyant.ai/blog/music-genre-classification-using-cnn\n"
   ]
  },
  {
   "cell_type": "markdown",
   "metadata": {},
   "source": [
    "# Problem Statement\n",
    "\n",
    "Problem Definition: The task is to classify songs into different genres based on their audio features. Genres could include categories like hip-hop, jazz, classical, etc. The problem is to build a model that can learn patterns and characteristics from audio data and accurately assign a genre label to each song. This problem is well defined and can be addressed through ML techniques.\n",
    "\n",
    "Potential ML Solution: One potential solution is to use classification models to train on a labeled dataset of songs. The model will learn to recognize patterns in the audio features, such as tempo, rhythm, melodic content, and harmonic structure, that are indicative of different genres. Once trained, the model can predict the genre of unlabeled songs.\n",
    "\n",
    "Quantifiability: The problem of song genre classification is quantifiable since it can be expressed in mathematical or logical terms. For example, the audio features of each song can be represented as numerical values, and the genre labels can be converted from a categorical variable to a one-hot encoding. The goal is to find a function or model that maps the input audio features to the correct genre label.\n",
    "\n",
    "Measurability: The problem is measurable since it can be evaluated using performance metrics. Accuracy, precision, recall, and F1 score are metrics we learned in class to assess the performance of classification models. By comparing the predicted genres with the ground truth labels, we can observe and measure the accuracy and effectiveness of the model.\n",
    "\n",
    "Replicability: By using a consistent dataset, splitting it into training and test sets, and employing the same ML algorithms and evaluation metrics, the experiment can be replicated multiple times. This allows for the assessment of the model's performance across different trials and enables us to compare various approaches or improvements.\n"
   ]
  },
  {
   "cell_type": "markdown",
   "metadata": {},
   "source": [
    "# Data\n",
    "\n",
    "\n",
    "https://www.kaggle.com/datasets/cnic92/spotify-past-decades-songs-50s10s?select=2010.csv\n",
    "\n",
    "This dataset has around 100 songs per year, with features such as the key, danceability, energy, etc. These are the kind of features that we want. \n",
    "- This is just part of one entry:\n",
    "(title) bad guy,\n",
    "(artist)Billie Eilish,\n",
    "(GENRE) electropop,\n",
    "2019,\n",
    "135,\n",
    "43,\n",
    "70,\n",
    "11,\n",
    "10\n",
    "- the genre attribute will be our target\n",
    "- we want to get rid of unnecessary features\n",
    "\n",
    "We want to find similar datasets, as 1000 observations is definitely on the lower end, although manageable.\n",
    "\n",
    "Another possible: https://www.kaggle.com/datasets/andradaolteanu/gtzan-dataset-music-genre-classification\n"
   ]
  },
  {
   "cell_type": "markdown",
   "metadata": {},
   "source": [
    "# Proposed Solution\n",
    "\n",
    "We will train both a decision tree as well as a nearest neighbor model in order to create our final product. Only one of these models will be selected after testing as our final solution. These models are useful for classification problems where there are multiple possible answers as opposed to a binary decision.\n",
    "The first step will be preprocessing the data and feature selection, with an eye towards which features we foresee being the most predictive in discriminating different genres. This step will also include any encoding on the data.\n",
    "\n",
    "A nearest neighbor approach would suffer from utilizing too many features as this would increase the dimensionality of the decision space. It may be important to include many different features in order to discern one genre from another and for this reason we foresee our decision tree performing much better as it does not suffer from such drawbacks.\n",
    "\n",
    "Cross-validation will be used to tune the hyperparameters of both models. Examples of such hyperparameters are the depth of the decision tree and the number of neighbors in our nearest neighbor model. We will also evaluate the confusion matrix of both models in order to better understand what kinds of errors are occurring.\n",
    "We will not be comparing our results to a benchmark model, rather we will test our models performance by aiming to minimize misclassification errors as well as examining their accuracy, precision, recall, and F1 score.\n",
    "\n"
   ]
  },
  {
   "cell_type": "markdown",
   "metadata": {},
   "source": [
    "# Evaluation Metrics\n",
    "\n",
    "In this classification model, we plan on using the following evaluation metrics:\n",
    "\n",
    "- Accuracy\n",
    "- (TP + TN) / (TP + TN + FP + FN)\n",
    "\n",
    "\n",
    "- Precision\n",
    "- TP / (TP + FP)\n",
    "\n",
    "\n",
    "- Recall\n",
    "- TP / (TP + FN)\n",
    "\n",
    "\n",
    "- F1 Score\n",
    "- (2 * Precision * Recall) / (Precision + Recall)\n",
    "\n",
    "We will use these metrics to evaluate the performance of both the benchmark model and the solution model.\n"
   ]
  },
  {
   "cell_type": "markdown",
   "metadata": {},
   "source": [
    "# Ethics & Privacy"
   ]
  },
  {
   "cell_type": "markdown",
   "metadata": {},
   "source": [
    "The dataset we are using is directly from Kaggle that lists certain attributes in songs taken from a publicly available playlist in Spotify, an audio streaming platform. However, there may be some ethical concerns that arise within a music genre classification model. One issue to address is the ethical concerns around misrepresentation for specific genres. Since we are looking into certain attributes in songs to develop a model that can accurately predict the genre of a given song based on its audio features, we may misrepresent the song to a specific genre that might also fit under another genre. This can lead to disagreements among experts and listeners about specific genre classifications and what criteria should be used to classify each song. The model should acknowledge this subjectivity and inherent diversity in musical tastes, to ultimately avoid oversimplification or misrepresentation of complex genres.\n",
    "\n",
    "An unintended consequence of this ML model could be music genre bias where the training data being used is biased towards specific genres and not all. We must be careful to ensure the model is trained on diverse and representative data to address and mitigate this bias.\n"
   ]
  },
  {
   "cell_type": "markdown",
   "metadata": {},
   "source": [
    "# Team Expectations "
   ]
  },
  {
   "cell_type": "markdown",
   "metadata": {},
   "source": [
    "- Communication: We should all maintain open and effective communication channels within the team. We all need to respond to messages in a timely manner and actively participate in team discussions and meetings.\n",
    "- Attendance and Punctuality: All members need to attend all team Zoom calls, and arrive on time. If someone is unable to attend, they need to provide advance notice and make sure they catch up on the topics they missed.\n",
    "- Respect: Treat all team members with respect and ensure that everyone’s opinions are considered.\n",
    "- Work Quality: Everyone should work on this group project as if it was their own. We should strive to ensure that we try our best to create the highest quality of work for this class.  \n"
   ]
  },
  {
   "cell_type": "markdown",
   "metadata": {},
   "source": [
    "# Project Timeline Proposal"
   ]
  },
  {
   "cell_type": "markdown",
   "metadata": {},
   "source": [
    "\n",
    "| Meeting Date  | Meeting Time| Completed Before Meeting  | Discuss at Meeting |\n",
    "|---|---|---|---|\n",
    "| 5/17  |  9 AM |  Found topics  | Discuss which topic to work on| \n",
    "| 5/13 |  10 AM |  Finished Checkpoint Work | Discuss what to change / meeting times | \n",
    "| 6/13  | 12 PM  | Complete analysis; Draft results/conclusion/discussion | Discuss/edit full project |\n",
    "| 6/14  | Before 11:59 PM  | NA | Turn in Final Project  |"
   ]
  },
  {
   "cell_type": "markdown",
   "metadata": {},
   "source": [
    "# Footnotes\n",
    "<a name=\"springernote\"></a>1.[^](#springer): https://link.springer.com/chapter/10.1007/978-3-642-17832-0_30\n",
    "<a name=\"chowdhurynote\"></a>2.[^](#chowdhury): https://www.clairvoyant.ai/blog/music-genre-classification-using-cnn\n",
    "\n"
   ]
  }
 ],
 "metadata": {
  "kernelspec": {
   "display_name": "Python 3 (ipykernel)",
   "language": "python",
   "name": "python3"
  },
  "language_info": {
   "codemirror_mode": {
    "name": "ipython",
    "version": 3
   },
   "file_extension": ".py",
   "mimetype": "text/x-python",
   "name": "python",
   "nbconvert_exporter": "python",
   "pygments_lexer": "ipython3",
   "version": "3.9.5"
  }
 },
 "nbformat": 4,
 "nbformat_minor": 2
}
